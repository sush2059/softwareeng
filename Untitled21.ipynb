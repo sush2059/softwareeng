{
  "nbformat": 4,
  "nbformat_minor": 0,
  "metadata": {
    "colab": {
      "provenance": [],
      "authorship_tag": "ABX9TyN6/E4a59Pig6Jkl1w8FkLt",
      "include_colab_link": true
    },
    "kernelspec": {
      "name": "python3",
      "display_name": "Python 3"
    },
    "language_info": {
      "name": "python"
    }
  },
  "cells": [
    {
      "cell_type": "markdown",
      "metadata": {
        "id": "view-in-github",
        "colab_type": "text"
      },
      "source": [
        "<a href=\"https://colab.research.google.com/github/sush2059/softwareeng/blob/main/Untitled21.ipynb\" target=\"_parent\"><img src=\"https://colab.research.google.com/assets/colab-badge.svg\" alt=\"Open In Colab\"/></a>"
      ]
    },
    {
      "cell_type": "code",
      "execution_count": 5,
      "metadata": {
        "colab": {
          "base_uri": "https://localhost:8080/",
          "height": 0
        },
        "id": "C1b6THHwODC2",
        "outputId": "b505aace-1bde-47a2-b49c-34c4537a41e2"
      },
      "outputs": [
        {
          "output_type": "stream",
          "name": "stdout",
          "text": [
            "The response code is: <Response [200]>\n",
            "NewsNews \n",
            "\n"
          ]
        }
      ],
      "source": [
        "import requests\n",
        "from bs4 import BeautifulSoup  # Corrected import statement\n",
        "\n",
        "# Requesting the website\n",
        "URL = 'https://www.bbc.com/news'\n",
        "response = requests.get(URL)\n",
        "print(\"The response code is:\", response)\n",
        "\n",
        "# Parse the HTML Document\n",
        "soup = BeautifulSoup(response.text, 'html.parser')\n",
        "\n",
        "#Extract the news headline from HTML\n",
        "headlines = soup.find_all('h1')\n",
        "#display the headlines\n",
        "for headline in headlines:\n",
        "  print(headline.text, \"\\n\")\n",
        "\n",
        "\n"
      ]
    },
    {
      "cell_type": "code",
      "source": [
        "import requests\n",
        "from bs4 import BeautifulSoup\n",
        "\n",
        "# BBC News Live Page URL\n",
        "URL = \"https://www.bbc.com/news/live/c981p3dxnent\"\n",
        "\n",
        "# Requesting the webpage\n",
        "headers = {'User-Agent': 'Mozilla/5.0'}  # Prevents request blocking\n",
        "response = requests.get(URL, headers=headers)\n",
        "\n",
        "# Check response status\n",
        "if response.status_code == 200:\n",
        "    # Parse HTML\n",
        "    soup = BeautifulSoup(response.text, 'html.parser')\n",
        "\n",
        "    # Extract headlines from <h1>, <h2>, and <h3> tags\n",
        "    headlines = soup.find_all(['h1', 'h2', 'h3'])  # Combined into one step\n",
        "\n",
        "    # Display headlines\n",
        "    if headlines:\n",
        "        for i, headline in enumerate(headlines, 1):\n",
        "            print(f\"Headline {i}: {headline.text.strip()}\\n\")\n",
        "    else:\n",
        "        print(\"No headlines found.\")\n",
        "else:\n",
        "    print(\"Failed to retrieve webpage. Status Code:\", response.status_code)\n"
      ],
      "metadata": {
        "colab": {
          "base_uri": "https://localhost:8080/",
          "height": 0
        },
        "id": "oepNv7csaEW2",
        "outputId": "2a16c346-5258-4e9b-c7e8-11732f782174"
      },
      "execution_count": 6,
      "outputs": [
        {
          "output_type": "stream",
          "name": "stdout",
          "text": [
            "Headline 1: Zelensky stresses gratitude to US and praises European 'unity' after weekend of talks\n",
            "\n",
            "Headline 2: Summary\n",
            "\n",
            "Headline 3: To play this video you need to enable JavaScript in your browser.\n",
            "\n",
            "Headline 4: Live Reporting\n",
            "\n",
            "Headline 5: In pictures: Russian strike on Kharkiv leaves buildings smokingpublished at 09:47 Greenwich Mean Time09:47 GMT\n",
            "\n",
            "Headline 6: A Ukraine truce deal is still just an idea - nothing has been agreed topublished at 09:31 Greenwich Mean Time09:31 GMT\n",
            "\n",
            "Headline 7: 'No agreement' between UK and France on truce deal - UK ministerpublished at 09:09 Greenwich Mean Time09:09 GMT\n",
            "\n",
            "Headline 8: The path to peace in Ukraine won't be a straight - or easy - onepublished at 08:55 Greenwich Mean Time08:55 GMT\n",
            "\n",
            "Headline 9: Ukraine-Russia truce would need 'security assurances' from Europepublished at 08:35 Greenwich Mean Time08:35 GMT\n",
            "\n",
            "Headline 10: What's included in Starmer's four-point plan for Ukraine?published at 08:07 Greenwich Mean Time08:07 GMT\n",
            "\n",
            "Headline 11: Russian drone attack on Kharkiv injures eight peoplepublished at 07:45 Greenwich Mean Time07:45 GMT\n",
            "\n",
            "Headline 12: In a stuffy room in Stansted, Zelensky didn't seem interested in making nicepublished at 07:28 Greenwich Mean Time07:28 GMT\n",
            "\n",
            "Headline 13: To play this video you need to enable JavaScript in your browser.\n",
            "\n",
            "Headline 14: Trump tells followers to 'worry less about Putin'published at 07:21 Greenwich Mean Time07:21 GMT\n",
            "\n",
            "Headline 15: Zelensky underscores Ukraine's appreciation for US supportpublished at 07:08 Greenwich Mean Time07:08 GMT\n",
            "\n",
            "Headline 16: Zelensky praises European 'unity' after weekend of talkspublished at 06:52 Greenwich Mean Time06:52 GMT\n",
            "\n"
          ]
        }
      ]
    },
    {
      "cell_type": "code",
      "source": [],
      "metadata": {
        "id": "NfsUVLb5ckoa"
      },
      "execution_count": null,
      "outputs": []
    },
    {
      "cell_type": "code",
      "source": [
        "import pandas as pd\n",
        "import os\n",
        "from datetime import datetime\n",
        "\n",
        "# Sample Data (Replace this with your actual scraped data)\n",
        "headlines = [\"Headline 1\", \"Headline 2\", \"Headline 3\"]\n",
        "\n",
        "# Define filename\n",
        "filename = \"headlines.csv\"\n",
        "\n",
        "# Convert to DataFrame\n",
        "df = pd.DataFrame({\"Headlines\": headlines, \"Date\": datetime.now().strftime(\"%Y-%m-%d %H:%M:%S\")})\n",
        "\n",
        "# Save to CSV\n",
        "df.to_csv(filename, index=False, encoding=\"utf-8\")\n",
        "\n",
        "print(f\"✅ CSV file saved successfully: {filename}\")\n"
      ],
      "metadata": {
        "colab": {
          "base_uri": "https://localhost:8080/",
          "height": 0
        },
        "id": "xBlvUCrUaukP",
        "outputId": "82d016e1-0c29-4a71-95fe-846c08e666f9"
      },
      "execution_count": 7,
      "outputs": [
        {
          "output_type": "stream",
          "name": "stdout",
          "text": [
            "✅ CSV file saved successfully: headlines.csv\n"
          ]
        }
      ]
    },
    {
      "cell_type": "code",
      "source": [
        "df.to_CSV('example.CSV')"
      ],
      "metadata": {
        "colab": {
          "base_uri": "https://localhost:8080/",
          "height": 263
        },
        "id": "JvvUENkocllR",
        "outputId": "2e13a267-fe16-4dc0-fe30-be7aecc6ea82"
      },
      "execution_count": 8,
      "outputs": [
        {
          "output_type": "error",
          "ename": "AttributeError",
          "evalue": "'DataFrame' object has no attribute 'to_CSV'",
          "traceback": [
            "\u001b[0;31m---------------------------------------------------------------------------\u001b[0m",
            "\u001b[0;31mAttributeError\u001b[0m                            Traceback (most recent call last)",
            "\u001b[0;32m<ipython-input-8-192efa86e058>\u001b[0m in \u001b[0;36m<cell line: 0>\u001b[0;34m()\u001b[0m\n\u001b[0;32m----> 1\u001b[0;31m \u001b[0mdf\u001b[0m\u001b[0;34m.\u001b[0m\u001b[0mto_CSV\u001b[0m\u001b[0;34m(\u001b[0m\u001b[0;34m'example.CSV'\u001b[0m\u001b[0;34m)\u001b[0m\u001b[0;34m\u001b[0m\u001b[0;34m\u001b[0m\u001b[0m\n\u001b[0m",
            "\u001b[0;32m/usr/local/lib/python3.11/dist-packages/pandas/core/generic.py\u001b[0m in \u001b[0;36m__getattr__\u001b[0;34m(self, name)\u001b[0m\n\u001b[1;32m   6297\u001b[0m         ):\n\u001b[1;32m   6298\u001b[0m             \u001b[0;32mreturn\u001b[0m \u001b[0mself\u001b[0m\u001b[0;34m[\u001b[0m\u001b[0mname\u001b[0m\u001b[0;34m]\u001b[0m\u001b[0;34m\u001b[0m\u001b[0;34m\u001b[0m\u001b[0m\n\u001b[0;32m-> 6299\u001b[0;31m         \u001b[0;32mreturn\u001b[0m \u001b[0mobject\u001b[0m\u001b[0;34m.\u001b[0m\u001b[0m__getattribute__\u001b[0m\u001b[0;34m(\u001b[0m\u001b[0mself\u001b[0m\u001b[0;34m,\u001b[0m \u001b[0mname\u001b[0m\u001b[0;34m)\u001b[0m\u001b[0;34m\u001b[0m\u001b[0;34m\u001b[0m\u001b[0m\n\u001b[0m\u001b[1;32m   6300\u001b[0m \u001b[0;34m\u001b[0m\u001b[0m\n\u001b[1;32m   6301\u001b[0m     \u001b[0;34m@\u001b[0m\u001b[0mfinal\u001b[0m\u001b[0;34m\u001b[0m\u001b[0;34m\u001b[0m\u001b[0m\n",
            "\u001b[0;31mAttributeError\u001b[0m: 'DataFrame' object has no attribute 'to_CSV'"
          ]
        }
      ]
    },
    {
      "cell_type": "code",
      "source": [
        "df.to_csv('example.csv', index=False, encoding=\"utf-8\")\n"
      ],
      "metadata": {
        "id": "TwwVimlxdIEo"
      },
      "execution_count": 9,
      "outputs": []
    }
  ]
}