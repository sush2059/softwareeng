{
  "nbformat": 4,
  "nbformat_minor": 0,
  "metadata": {
    "colab": {
      "provenance": [],
      "authorship_tag": "ABX9TyOLqdLkM/6ZJPhjYI4+kw5Y",
      "include_colab_link": true
    },
    "kernelspec": {
      "name": "python3",
      "display_name": "Python 3"
    },
    "language_info": {
      "name": "python"
    }
  },
  "cells": [
    {
      "cell_type": "markdown",
      "metadata": {
        "id": "view-in-github",
        "colab_type": "text"
      },
      "source": [
        "<a href=\"https://colab.research.google.com/github/sush2059/softwareeng/blob/main/Untitled19.ipynb\" target=\"_parent\"><img src=\"https://colab.research.google.com/assets/colab-badge.svg\" alt=\"Open In Colab\"/></a>"
      ]
    },
    {
      "cell_type": "code",
      "execution_count": 1,
      "metadata": {
        "colab": {
          "base_uri": "https://localhost:8080/"
        },
        "id": "DfXniNEVfvBf",
        "outputId": "e996ba73-8c0c-43ec-be74-3b6123695100"
      },
      "outputs": [
        {
          "output_type": "stream",
          "name": "stdout",
          "text": [
            "Headline 1: Zelensky stresses gratitude to US and praises European 'unity' after weekend of talks\n",
            "\n",
            "Headline 2: Summary\n",
            "\n",
            "Headline 3: To play this video you need to enable JavaScript in your browser.\n",
            "\n",
            "Headline 4: Live Reporting\n",
            "\n",
            "Headline 5: A Ukraine truce deal is still just an idea - nothing has been agreed topublished at 09:31 Greenwich Mean Time09:31 GMT\n",
            "\n",
            "Headline 6: 'No agreement' between UK and France on truce deal - UK ministerpublished at 09:09 Greenwich Mean Time09:09 GMT\n",
            "\n",
            "Headline 7: The path to peace in Ukraine won't be a straight - or easy - onepublished at 08:55 Greenwich Mean Time08:55 GMT\n",
            "\n",
            "Headline 8: Ukraine-Russia truce would need 'security assurances' from Europepublished at 08:35 Greenwich Mean Time08:35 GMT\n",
            "\n",
            "Headline 9: What's included in Starmer's four-point plan for Ukraine?published at 08:07 Greenwich Mean Time08:07 GMT\n",
            "\n",
            "Headline 10: Russian drone attack on Kharkiv injures eight peoplepublished at 07:45 Greenwich Mean Time07:45 GMT\n",
            "\n",
            "Headline 11: In a stuffy room in Stansted, Zelensky didn't seem interested in making nicepublished at 07:28 Greenwich Mean Time07:28 GMT\n",
            "\n",
            "Headline 12: To play this video you need to enable JavaScript in your browser.\n",
            "\n",
            "Headline 13: Trump tells followers to 'worry less about Putin'published at 07:21 Greenwich Mean Time07:21 GMT\n",
            "\n",
            "Headline 14: Zelensky underscores Ukraine's appreciation for US supportpublished at 07:08 Greenwich Mean Time07:08 GMT\n",
            "\n",
            "Headline 15: Zelensky praises European 'unity' after weekend of talkspublished at 06:52 Greenwich Mean Time06:52 GMT\n",
            "\n"
          ]
        }
      ],
      "source": [
        "import requests\n",
        "from bs4 import BeautifulSoup\n",
        "\n",
        "# BBC News Live Page URL\n",
        "URL = \"https://www.bbc.com/news/live/c981p3dxnent\"\n",
        "\n",
        "# Requesting the webpage\n",
        "headers = {'User-Agent': 'Mozilla/5.0'}  # Prevents request blocking\n",
        "response = requests.get(URL, headers=headers)\n",
        "\n",
        "# Check response status\n",
        "if response.status_code == 200:\n",
        "    # Parse HTML\n",
        "    soup = BeautifulSoup(response.text, 'html.parser')\n",
        "\n",
        "    # Extract headlines from <h1>, <h2>, and <h3> tags\n",
        "    headlines = soup.find_all(['h1', 'h2', 'h3'])  # Combined into one step\n",
        "\n",
        "    # Display headlines\n",
        "    if headlines:\n",
        "        for i, headline in enumerate(headlines, 1):\n",
        "            print(f\"Headline {i}: {headline.text.strip()}\\n\")\n",
        "    else:\n",
        "        print(\"No headlines found.\")\n",
        "else:\n",
        "    print(\"Failed to retrieve webpage. Status Code:\", response.status_code)\n"
      ]
    }
  ]
}